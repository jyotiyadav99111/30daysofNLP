{
  "nbformat": 4,
  "nbformat_minor": 0,
  "metadata": {
    "colab": {
      "name": "Untitled1.ipynb",
      "provenance": [],
      "collapsed_sections": []
    },
    "kernelspec": {
      "name": "python3",
      "display_name": "Python 3"
    },
    "language_info": {
      "name": "python"
    }
  },
  "cells": [
    {
      "cell_type": "code",
      "metadata": {
        "colab": {
          "base_uri": "https://localhost:8080/"
        },
        "id": "N8pw2MoFQ77s",
        "outputId": "cae74d66-6807-4c66-ae91-2710ca3db214"
      },
      "source": [
        "# Convert to Lowercase\n",
        "def convert_to_lower_case(input_str):\n",
        "  return input_str.lower()\n",
        "\n",
        "s = \"Natural language processing (NLP) is a subfield of linguistics, computer science, and artificial intelligence concerned\"\n",
        "print(convert_to_lower_case(s))"
      ],
      "execution_count": 1,
      "outputs": [
        {
          "output_type": "stream",
          "text": [
            "natural language processing (nlp) is a subfield of linguistics, computer science, and artificial intelligence concerned\n"
          ],
          "name": "stdout"
        }
      ]
    },
    {
      "cell_type": "code",
      "metadata": {
        "colab": {
          "base_uri": "https://localhost:8080/",
          "height": 35
        },
        "id": "kiDIobG9Rjvo",
        "outputId": "c21e8b4a-2333-4bc1-80b0-8cc1938a0f3f"
      },
      "source": [
        "# Removal of numbers\n",
        "import re\n",
        "\n",
        "def number_removal(input_str): \n",
        "    return re.sub(r'\\d+', '', input_str) \n",
        "  \n",
        "s = \"Elon Musk was born in 1971.\"\n",
        "number_removal(s) "
      ],
      "execution_count": 1,
      "outputs": [
        {
          "output_type": "execute_result",
          "data": {
            "application/vnd.google.colaboratory.intrinsic+json": {
              "type": "string"
            },
            "text/plain": [
              "'Elon Musk was born in .'"
            ]
          },
          "metadata": {
            "tags": []
          },
          "execution_count": 1
        }
      ]
    },
    {
      "cell_type": "code",
      "metadata": {
        "colab": {
          "base_uri": "https://localhost:8080/",
          "height": 35
        },
        "id": "4fuaxC0hUA_f",
        "outputId": "7f7546d3-164e-4d80-a38f-7194367e2eaf"
      },
      "source": [
        "# Convert numbers into text\n",
        "import inflect \n",
        "engine = inflect.engine() \n",
        "  \n",
        "def number_to_text(input_str): \n",
        "    string_array = input_str.split() # split the senetence into a list of words. The split is base on space.\n",
        "    new = [] \n",
        "  \n",
        "    for word in string_array:  # given the list from above, convert the digit into text and append it into the string\n",
        "        if word.isdigit(): \n",
        "            converted = engine.number_to_words(word) \n",
        "            new.append(converted) \n",
        "\n",
        "        else:                # If it an integer it will be appended as it is\n",
        "            new.append(word) \n",
        "  \n",
        "    return ' '.join(new) # make a string out of list again\n",
        "     \n",
        "  \n",
        "s = 'Elon Musk was born in 1971 .'\n",
        "number_to_text(s)"
      ],
      "execution_count": 7,
      "outputs": [
        {
          "output_type": "execute_result",
          "data": {
            "application/vnd.google.colaboratory.intrinsic+json": {
              "type": "string"
            },
            "text/plain": [
              "'Elon Musk was born in one thousand, nine hundred and seventy-one .'"
            ]
          },
          "metadata": {
            "tags": []
          },
          "execution_count": 7
        }
      ]
    },
    {
      "cell_type": "code",
      "metadata": {
        "colab": {
          "base_uri": "https://localhost:8080/",
          "height": 35
        },
        "id": "eTqfX2haAi_K",
        "outputId": "ee4cc7f9-ef60-4cf3-e655-e4ffbe4746f9"
      },
      "source": [
        "# Remove Punctuations\n",
        "import string\n",
        "\n",
        "def remove_punctuations(input_str): \n",
        "    function = str.maketrans('', '', string.punctuation)  # remove punctuations (string.punctuations is a set of punctuations)\n",
        "    return input_str.translate(function) # execute on input\n",
        "  \n",
        "s = \"Hey!! Long time, no see!!!\"\n",
        "remove_punctuations(s) "
      ],
      "execution_count": 11,
      "outputs": [
        {
          "output_type": "execute_result",
          "data": {
            "application/vnd.google.colaboratory.intrinsic+json": {
              "type": "string"
            },
            "text/plain": [
              "'Hey Long time no see'"
            ]
          },
          "metadata": {
            "tags": []
          },
          "execution_count": 11
        }
      ]
    },
    {
      "cell_type": "code",
      "metadata": {
        "colab": {
          "base_uri": "https://localhost:8080/",
          "height": 108
        },
        "id": "WmEd_SmiDKsm",
        "outputId": "d487d756-2abd-43ff-91b7-b0899ee920b7"
      },
      "source": [
        "# Remove Stopwords\n",
        "import nltk\n",
        "from nltk.corpus import stopwords \n",
        "from nltk.tokenize import word_tokenize \n",
        "\n",
        "nltk.download('stopwords')\n",
        "nltk.download('punkt')\n",
        "  \n",
        "def remove_stopwords(input_str): \n",
        "    stopwords_bag = set(stopwords.words(\"english\")) # Downloading all the dfault stop words in english language\n",
        "    tokens = word_tokenize(input_str)  # extracting words from sentence\n",
        "    final_text = [i for i in tokens if i not in stopwords_bag] # keep only those words which are not in stopword bag\n",
        "    return ' '.join(final_text)\n",
        "  \n",
        "s = \"It does not do well to dwell on dreams and forget to live. ― Albus Dumbledore\"\n",
        "remove_stopwords(s)"
      ],
      "execution_count": 7,
      "outputs": [
        {
          "output_type": "stream",
          "text": [
            "[nltk_data] Downloading package stopwords to /root/nltk_data...\n",
            "[nltk_data]   Package stopwords is already up-to-date!\n",
            "[nltk_data] Downloading package punkt to /root/nltk_data...\n",
            "[nltk_data]   Package punkt is already up-to-date!\n"
          ],
          "name": "stdout"
        },
        {
          "output_type": "execute_result",
          "data": {
            "application/vnd.google.colaboratory.intrinsic+json": {
              "type": "string"
            },
            "text/plain": [
              "'It well dwell dreams forget live . ― Albus Dumbledore'"
            ]
          },
          "metadata": {
            "tags": []
          },
          "execution_count": 7
        }
      ]
    },
    {
      "cell_type": "code",
      "metadata": {
        "id": "yVFo7EUzDKx-"
      },
      "source": [
        ""
      ],
      "execution_count": null,
      "outputs": []
    },
    {
      "cell_type": "code",
      "metadata": {
        "id": "qdmq4Si7DK00"
      },
      "source": [
        ""
      ],
      "execution_count": null,
      "outputs": []
    }
  ]
}