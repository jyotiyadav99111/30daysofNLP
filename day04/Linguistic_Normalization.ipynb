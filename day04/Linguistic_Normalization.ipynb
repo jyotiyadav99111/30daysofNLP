{
  "nbformat": 4,
  "nbformat_minor": 0,
  "metadata": {
    "colab": {
      "name": "Linguistic Normalization.ipynb",
      "provenance": [],
      "collapsed_sections": []
    },
    "kernelspec": {
      "name": "python3",
      "display_name": "Python 3"
    },
    "language_info": {
      "name": "python"
    }
  },
  "cells": [
    {
      "cell_type": "code",
      "metadata": {
        "colab": {
          "base_uri": "https://localhost:8080/"
        },
        "id": "Zjtu0BgFPLWF",
        "outputId": "4c3c54ac-37b7-4020-d5fa-e0acb308711a"
      },
      "source": [
        "import nltk\n",
        "\n",
        "from nltk.stem.snowball import SnowballStemmer\n",
        "from nltk.tokenize import word_tokenize \n",
        "\n",
        "nltk.download('punkt')\n",
        "stem_algo = SnowballStemmer(language='english')\n",
        "\n",
        "def stem_text(input_str): \n",
        "    tokens = word_tokenize(input_str) # convert sentences into a list of words\n",
        "    filtered_text = [stem_algo.stem(word) for word in tokens] # stemming words\n",
        "    return filtered_text \n",
        "  \n",
        "s = 'Machine learning is the study of computer algorithms that improve automatically through experience and by the use of data. It is seen as a part of artificial intelligence.'\n",
        "print(stem_text(s))"
      ],
      "execution_count": 3,
      "outputs": [
        {
          "output_type": "stream",
          "text": [
            "[nltk_data] Downloading package punkt to /root/nltk_data...\n",
            "[nltk_data]   Package punkt is already up-to-date!\n",
            "['machin', 'learn', 'is', 'the', 'studi', 'of', 'comput', 'algorithm', 'that', 'improv', 'automat', 'through', 'experi', 'and', 'by', 'the', 'use', 'of', 'data', '.', 'It', 'is', 'seen', 'as', 'a', 'part', 'of', 'artifici', 'intellig', '.']\n"
          ],
          "name": "stdout"
        }
      ]
    },
    {
      "cell_type": "code",
      "metadata": {
        "colab": {
          "base_uri": "https://localhost:8080/"
        },
        "id": "di4uA3W5Sfis",
        "outputId": "a468dccb-80c1-475f-f729-376c3b92dbd5"
      },
      "source": [
        "from nltk.stem import wordnet \n",
        "from nltk.tokenize import word_tokenize\n",
        "\n",
        "nltk.download('wordnet')\n",
        "\n",
        "algo = wordnet.WordNetLemmatizer()\n",
        "\n",
        "def lemmatization(input_str): \n",
        "    tokens = word_tokenize(input_str) # convert text into a set of words\n",
        "    filtered_words = [algo.lemmatize(word) for word in tokens] \n",
        "    return filtered_words \n",
        "  \n",
        "s = 'Machine learning is the study of computer algorithms that improve automatically through experience and by the use of data. It is seen as a part of artificial intelligence.'\n",
        "lemmatization(s)"
      ],
      "execution_count": 5,
      "outputs": [
        {
          "output_type": "stream",
          "text": [
            "[nltk_data] Downloading package wordnet to /root/nltk_data...\n",
            "[nltk_data]   Package wordnet is already up-to-date!\n"
          ],
          "name": "stdout"
        },
        {
          "output_type": "execute_result",
          "data": {
            "text/plain": [
              "['Machine',\n",
              " 'learning',\n",
              " 'is',\n",
              " 'the',\n",
              " 'study',\n",
              " 'of',\n",
              " 'computer',\n",
              " 'algorithm',\n",
              " 'that',\n",
              " 'improve',\n",
              " 'automatically',\n",
              " 'through',\n",
              " 'experience',\n",
              " 'and',\n",
              " 'by',\n",
              " 'the',\n",
              " 'use',\n",
              " 'of',\n",
              " 'data',\n",
              " '.',\n",
              " 'It',\n",
              " 'is',\n",
              " 'seen',\n",
              " 'a',\n",
              " 'a',\n",
              " 'part',\n",
              " 'of',\n",
              " 'artificial',\n",
              " 'intelligence',\n",
              " '.']"
            ]
          },
          "metadata": {
            "tags": []
          },
          "execution_count": 5
        }
      ]
    },
    {
      "cell_type": "code",
      "metadata": {
        "id": "_W10mfNYZAoj"
      },
      "source": [
        ""
      ],
      "execution_count": null,
      "outputs": []
    }
  ]
}
