{
  "nbformat": 4,
  "nbformat_minor": 0,
  "metadata": {
    "colab": {
      "name": "Regex.ipynb",
      "provenance": []
    },
    "kernelspec": {
      "name": "python3",
      "display_name": "Python 3"
    },
    "language_info": {
      "name": "python"
    }
  },
  "cells": [
    {
      "cell_type": "code",
      "metadata": {
        "colab": {
          "base_uri": "https://localhost:8080/",
          "height": 0
        },
        "id": "6_zR3t51bw0p",
        "outputId": "53cbe03d-f67e-4bf1-e40f-2cff8339748f"
      },
      "source": [
        "import re\n",
        "# General function format: re.match(pattern, sequence)\n",
        "re.match(r\"NLP\", \"NLP\")"
      ],
      "execution_count": 7,
      "outputs": [
        {
          "output_type": "execute_result",
          "data": {
            "text/plain": [
              "<re.Match object; span=(0, 3), match='NLP'>"
            ]
          },
          "metadata": {
            "tags": []
          },
          "execution_count": 7
        }
      ]
    },
    {
      "cell_type": "code",
      "metadata": {
        "colab": {
          "base_uri": "https://localhost:8080/",
          "height": 35
        },
        "id": "ljA9a-pNsRPU",
        "outputId": "23fb1130-0085-4ae2-c248-b753ed9dec43"
      },
      "source": [
        "# General function format: re.search(pattern, sequence)\n",
        "re.search(r\"process...\", \"NLP stands for Natural Language processing\").group()"
      ],
      "execution_count": 14,
      "outputs": [
        {
          "output_type": "execute_result",
          "data": {
            "application/vnd.google.colaboratory.intrinsic+json": {
              "type": "string"
            },
            "text/plain": [
              "'processing'"
            ]
          },
          "metadata": {
            "tags": []
          },
          "execution_count": 14
        }
      ]
    },
    {
      "cell_type": "code",
      "metadata": {
        "colab": {
          "base_uri": "https://localhost:8080/",
          "height": 35
        },
        "id": "PmrDHev1sdNR",
        "outputId": "2da304cc-1963-4c51-b334-ad74a5ab2d20"
      },
      "source": [
        "re.search(r\"^A.I.\", \"A.I. will be the last human invention\").group()"
      ],
      "execution_count": 17,
      "outputs": [
        {
          "output_type": "execute_result",
          "data": {
            "application/vnd.google.colaboratory.intrinsic+json": {
              "type": "string"
            },
            "text/plain": [
              "'A.I.'"
            ]
          },
          "metadata": {
            "tags": []
          },
          "execution_count": 17
        }
      ]
    },
    {
      "cell_type": "code",
      "metadata": {
        "colab": {
          "base_uri": "https://localhost:8080/",
          "height": 35
        },
        "id": "wElYFg5PtxQI",
        "outputId": "a0da537a-d8d7-4e88-a014-691b6975f298"
      },
      "source": [
        "re.search(r\"invention$\", \"A.I. will be the last human invention\").group()"
      ],
      "execution_count": 19,
      "outputs": [
        {
          "output_type": "execute_result",
          "data": {
            "application/vnd.google.colaboratory.intrinsic+json": {
              "type": "string"
            },
            "text/plain": [
              "'invention'"
            ]
          },
          "metadata": {
            "tags": []
          },
          "execution_count": 19
        }
      ]
    },
    {
      "cell_type": "code",
      "metadata": {
        "colab": {
          "base_uri": "https://localhost:8080/",
          "height": 0
        },
        "id": "1hY3PfWot-WX",
        "outputId": "de46efc9-fbd0-4b4e-d202-026515662332"
      },
      "source": [
        "# i. [xyz]\n",
        "print(\"[xyz]: \" ,re.search(r\"[5-9]\", \"Harry potter's life described in set of 7 books\").group())\n",
        "\n",
        "# ii. [a-zA-Z0-9] # will only spit out the first occurance\n",
        "print(\"[a-zA-Z0-9]: \", re.search(r\"[a-zA-Z0-9]\", \"Harry potter's life described in set of 7 books\").group())\n",
        "\n",
        "# iii. ^[] \n",
        "print(\"^[]: \" ,re.search(r\"Harry potter's life described in set of [^8]\", \"Harry potter's life described in set of 7 books and 8 movies\").group())\n"
      ],
      "execution_count": 34,
      "outputs": [
        {
          "output_type": "stream",
          "text": [
            "[xyz]:  7\n",
            "[a-zA-Z0-9]:  H\n",
            "^[]:  Harry potter's life described in set of 7\n"
          ],
          "name": "stdout"
        }
      ]
    },
    {
      "cell_type": "code",
      "metadata": {
        "colab": {
          "base_uri": "https://localhost:8080/",
          "height": 0
        },
        "id": "HyUcWBHPugkn",
        "outputId": "2ebf9759-f215-4efb-d907-26e032b5dd64"
      },
      "source": [
        "# i. \\w \n",
        "print(\"\\w: \", re.search(r\"H\\wrr\\w\", \"Harry potter's life described in set of 7 books\").group())\n",
        "\n",
        "# ii. \\W\n",
        "print(\"\\W: \", re.search(r\"H\\Wrry\", \"H@rry potter's life described in set of 7 books\").group())\n",
        "\n",
        "# iii. \\s \n",
        "print(\"\\s: \", re.search(r\"Harry\\spotter\", \"Harry potter's life described in set of 7 books\").group())\n",
        "\n",
        "# iv. \\S \n",
        "print(\"\\S: \", re.search(r\"H\\Srr\\S\", \"Harry potter's life described in set of 7 books\").group())\n",
        "\n",
        "# v. \\d\n",
        "print(\"\\d: \", re.search(r\"\\d\", \"Harry potter's life described in set of 7 books\").group())\n",
        "\n",
        "# vi. \\D \n",
        "print(\"\\D: \", re.search(r\"H\\Drr\\D\", \"Harry potter's life described in set of 7 books\").group())"
      ],
      "execution_count": 41,
      "outputs": [
        {
          "output_type": "stream",
          "text": [
            "\\w:  Harry\n",
            "\\W:  H@rry\n",
            "\\s:  Harry potter\n",
            "\\S:  Harry\n",
            "\\d:  7\n",
            "\\D:  Harry\n"
          ],
          "name": "stdout"
        }
      ]
    },
    {
      "cell_type": "code",
      "metadata": {
        "colab": {
          "base_uri": "https://localhost:8080/"
        },
        "id": "VI8hma6pxoEE",
        "outputId": "71230021-0b3b-4037-d8fb-a9470bfaa9c1"
      },
      "source": [
        "# i. Plus(+) \n",
        "print(\"Plus(+): \", re.search(r\"Har+y\", \"Harrrry potter's life described in set of 7 books\").group())\n",
        "\n",
        "# ii. Asterisk(*) \n",
        "print(\"Asterisk(*): \", re.search(r\"Har*y\", \"Harry potter's life described in set of 7 books\").group())\n",
        "\n",
        "# iii. Question Mark(?) \n",
        "print(\"Question Mark(?): \", re.search(r\"Hz?a?rry\", \"Harry potter's life described in set of 7 books\").group())"
      ],
      "execution_count": 47,
      "outputs": [
        {
          "output_type": "stream",
          "text": [
            "Plus(+):  Harrrry\n",
            "Asterisk(*):  Harry\n",
            "Question Mark(?):  Harry\n"
          ],
          "name": "stdout"
        }
      ]
    },
    {
      "cell_type": "code",
      "metadata": {
        "colab": {
          "base_uri": "https://localhost:8080/"
        },
        "id": "mr6r_HM3zZGV",
        "outputId": "6ae6599e-065b-488c-b5b5-b15af8fc74ef"
      },
      "source": [
        "# i. {a} \n",
        "print(\"{a}: \", re.search(r\"\\d{7}\", \"9876654321\").group())\n",
        "\n",
        "# ii. {a,} \n",
        "print(\"{a,}: \", re.search(r\"\\d{7,}\", \"9876654321\").group())\n",
        "\n",
        "# iii. {a,b} \n",
        "print(\"{a,b}: \", re.search(r\"\\d{7,8}\", \"9876654321\").group())"
      ],
      "execution_count": 50,
      "outputs": [
        {
          "output_type": "stream",
          "text": [
            "{a}:  9876654\n",
            "{a,}:  9876654321\n",
            "{a,b}:  98766543\n"
          ],
          "name": "stdout"
        }
      ]
    },
    {
      "cell_type": "code",
      "metadata": {
        "colab": {
          "base_uri": "https://localhost:8080/",
          "height": 35
        },
        "id": "xrD-GyE-15-7",
        "outputId": "ced25941-bf47-4c1d-a398-6d398e9afd2f"
      },
      "source": [
        "# Use case: Searh valid email from the text\n",
        "text = \"you can contact me at abc_1234@gmail.com\"\n",
        "#re.search(r\"^[a-z0-9]+@[a-z]+.[a-z]+$\", text.lower()).group()\n",
        "re.search(r\"\\w+@\\w+\", text.lower()).group()"
      ],
      "execution_count": 59,
      "outputs": [
        {
          "output_type": "execute_result",
          "data": {
            "application/vnd.google.colaboratory.intrinsic+json": {
              "type": "string"
            },
            "text/plain": [
              "'abc_1234@gmail'"
            ]
          },
          "metadata": {
            "tags": []
          },
          "execution_count": 59
        }
      ]
    }
  ]
}