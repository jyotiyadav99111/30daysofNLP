{
 "cells": [
  {
   "cell_type": "markdown",
   "metadata": {},
   "source": [
    "# NLP Python-based libraries"
   ]
  },
  {
   "cell_type": "markdown",
   "metadata": {},
   "source": [
    "Natural Language processing requires a very big knowledge base in order to perform the processing. It is similar to the knowledge base humans have gathered over time. Building this every time requires a lot of effort and processing. To avoid that, there are a few libraries that are generally used. Below is the list of the famous libraries:"
   ]
  },
  {
   "cell_type": "markdown",
   "metadata": {},
   "source": [
    "1.      **NLTK:** This is the most frequently used library for text processing. It is easy to use and composed of over 50 corpora and lexical resources such as WordNet. It also has the text processing libraries such as classification, tokenization, lemmatization, stemming, etc.\n",
    "\n",
    "2.      **Spacy:** It is another widely used open-source library. It is generally used for advanced-level processing. It is specifically designed for production use and is able to understand a large amount of text. It provides the functionality of tokenization, POS tagging, lemmatization, dependency tagging, sentence boundary detection, entity linking, etc.\n",
    "\n",
    "3.      **TextBlob:** Another library for the same purpose. This provides a simple API for common NLP tasks like POS tagging, noun phrase extraction, classification, and many more.\n",
    "\n",
    "4.      **Gensim:** The library is generally used for topic modeling, word2vec modeling, doc2vec modeling, LDA Models, etc. The library serves the purpose of complex modeling techniques.  \n",
    "\n",
    "5.      **StanfordNLP:** It is built by a group of professors at Stanford University. It covers topics such as sentence understanding, automatic question answering, machine translation, syntactic parsing and tagging, sentiment analysis, dialogue agents, etc. The distinguishing part about the library is its deep understanding of linguistics and probabilistic modeling. \n",
    "\n"
   ]
  }
 ],
 "metadata": {
  "kernelspec": {
   "display_name": "Python 3",
   "language": "python",
   "name": "python3"
  },
  "language_info": {
   "codemirror_mode": {
    "name": "ipython",
    "version": 3
   },
   "file_extension": ".py",
   "mimetype": "text/x-python",
   "name": "python",
   "nbconvert_exporter": "python",
   "pygments_lexer": "ipython3",
   "version": "3.7.6"
  }
 },
 "nbformat": 4,
 "nbformat_minor": 4
}
