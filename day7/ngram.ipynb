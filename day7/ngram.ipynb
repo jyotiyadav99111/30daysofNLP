{
  "nbformat": 4,
  "nbformat_minor": 0,
  "metadata": {
    "colab": {
      "name": "ngram.ipynb",
      "provenance": []
    },
    "kernelspec": {
      "name": "python3",
      "display_name": "Python 3"
    },
    "language_info": {
      "name": "python"
    }
  },
  "cells": [
    {
      "cell_type": "code",
      "metadata": {
        "colab": {
          "base_uri": "https://localhost:8080/"
        },
        "id": "Sy-46kDXmfeY",
        "outputId": "9e29a9a7-bc53-4004-8c29-4807e29d7b9f"
      },
      "source": [
        "import jieba # chinese word segementation library\n",
        " \n",
        "text = \"Today I will be working from home\"\n",
        "unigrams = jieba.cut(text)\n",
        "uni_list = list(unigrams)\n",
        "print(uni_list)"
      ],
      "execution_count": 1,
      "outputs": [
        {
          "output_type": "stream",
          "text": [
            "Building prefix dict from the default dictionary ...\n",
            "Dumping model to file cache /tmp/jieba.cache\n",
            "Loading model cost 0.936 seconds.\n",
            "Prefix dict has been built successfully.\n"
          ],
          "name": "stderr"
        },
        {
          "output_type": "stream",
          "text": [
            "['Today', ' ', 'I', ' ', 'will', ' ', 'be', ' ', 'working', ' ', 'from', ' ', 'home']\n"
          ],
          "name": "stdout"
        }
      ]
    },
    {
      "cell_type": "code",
      "metadata": {
        "colab": {
          "base_uri": "https://localhost:8080/"
        },
        "id": "XYbK2hPYnOMM",
        "outputId": "5cabaec7-64e0-469e-86f7-742f076bd178"
      },
      "source": [
        "split_list = text.split (\" \")\n",
        "bigrams = []\n",
        "for i in range(len(split_list)- 1):\n",
        "   bigrams.append(split_list[i]+ \" \" + split_list[ i + 1])\n",
        "   \n",
        "    \n",
        "print(bigrams)"
      ],
      "execution_count": 2,
      "outputs": [
        {
          "output_type": "stream",
          "text": [
            "['Today I', 'I will', 'will be', 'be working', 'working from', 'from home']\n"
          ],
          "name": "stdout"
        }
      ]
    },
    {
      "cell_type": "code",
      "metadata": {
        "colab": {
          "base_uri": "https://localhost:8080/"
        },
        "id": "mTP0TbJDnjzB",
        "outputId": "52d1e24e-5076-4f51-8a65-daaa6cc17cd4"
      },
      "source": [
        "trigram = []\n",
        "for i in range(len(split_list)- 2):\n",
        "   trigram.append(split_list[i] + \" \" + split_list[i + 1] + \" \" +split_list[i + 2])\n",
        "\n",
        "print(trigram)"
      ],
      "execution_count": 4,
      "outputs": [
        {
          "output_type": "stream",
          "text": [
            "['Today I will', 'I will be', 'will be working', 'be working from', 'working from home']\n"
          ],
          "name": "stdout"
        }
      ]
    }
  ]
}