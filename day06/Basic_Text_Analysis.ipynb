{
  "nbformat": 4,
  "nbformat_minor": 0,
  "metadata": {
    "colab": {
      "name": "Basic Text Analysis.ipynb",
      "provenance": [],
      "collapsed_sections": []
    },
    "kernelspec": {
      "name": "python3",
      "display_name": "Python 3"
    },
    "language_info": {
      "name": "python"
    }
  },
  "cells": [
    {
      "cell_type": "markdown",
      "metadata": {
        "id": "k2AsnYAvuRu3"
      },
      "source": [
        "# Tokenizer 1: WhitespaceTokenizer "
      ]
    },
    {
      "cell_type": "code",
      "metadata": {
        "id": "j1DUTNnYnAJi"
      },
      "source": [
        "from nltk.tokenize.regexp import WhitespaceTokenizer # import library and function\n",
        "\n",
        "# setting up text(Source: Wikipedia)\n",
        "text = \"'Natural language processing (NLP) is a subfield of linguistics, computer science, and artificial intelligence concerned with the interactions between computers and human language, in particular how to program computers to process and analyze large amounts of natural language data. The result is a computer capable of understanding the contents of documents, including the contextual nuances of the language within them. The technology can then accurately extract information and insights contained in the documents as well as categorize and organize the documents themselves.'\""
      ],
      "execution_count": 18,
      "outputs": []
    },
    {
      "cell_type": "code",
      "metadata": {
        "colab": {
          "base_uri": "https://localhost:8080/"
        },
        "id": "vzLSz8qsn1o7",
        "outputId": "5794e3e8-38b2-425d-91fb-e019d2922f85"
      },
      "source": [
        "tokenizer_1 = WhitespaceTokenizer()\n",
        "tokens = tokenizer_1.tokenize(text)\n",
        "print('Length of Tokens: ', len(tokens))\n",
        "print('Tokens list: ', tokens)"
      ],
      "execution_count": 19,
      "outputs": [
        {
          "output_type": "stream",
          "text": [
            "Length of Tokens:  82\n",
            "Tokens list:  [\"'Natural\", 'language', 'processing', '(NLP)', 'is', 'a', 'subfield', 'of', 'linguistics,', 'computer', 'science,', 'and', 'artificial', 'intelligence', 'concerned', 'with', 'the', 'interactions', 'between', 'computers', 'and', 'human', 'language,', 'in', 'particular', 'how', 'to', 'program', 'computers', 'to', 'process', 'and', 'analyze', 'large', 'amounts', 'of', 'natural', 'language', 'data.', 'The', 'result', 'is', 'a', 'computer', 'capable', 'of', 'understanding', 'the', 'contents', 'of', 'documents,', 'including', 'the', 'contextual', 'nuances', 'of', 'the', 'language', 'within', 'them.', 'The', 'technology', 'can', 'then', 'accurately', 'extract', 'information', 'and', 'insights', 'contained', 'in', 'the', 'documents', 'as', 'well', 'as', 'categorize', 'and', 'organize', 'the', 'documents', \"themselves.'\"]\n"
          ],
          "name": "stdout"
        }
      ]
    },
    {
      "cell_type": "code",
      "metadata": {
        "colab": {
          "base_uri": "https://localhost:8080/"
        },
        "id": "9cbdPmCQn_de",
        "outputId": "0e99b437-64b1-4100-ec51-a410c7d28a4f"
      },
      "source": [
        "vocab = set(tokens)\n",
        "print('Length of Vocab: ', len(vocab))\n",
        "print('Vocab list' , vocab)"
      ],
      "execution_count": 20,
      "outputs": [
        {
          "output_type": "stream",
          "text": [
            "Length of Vocab:  58\n",
            "Vocab list {'subfield', 'language,', 'technology', 'contained', 'amounts', 'and', 'between', 'documents,', 'accurately', 'categorize', 'large', 'The', 'with', 'computer', '(NLP)', 'processing', 'nuances', 'as', 'organize', 'then', 'computers', 'how', 'them.', 'particular', 'can', 'natural', 'information', 'within', 'artificial', 'understanding', 'documents', 'analyze', 'is', 'program', 'contextual', 'of', 'human', 'the', 'to', 'extract', 'well', \"'Natural\", 'a', 'contents', \"themselves.'\", 'concerned', 'in', 'intelligence', 'including', 'science,', 'language', 'interactions', 'result', 'linguistics,', 'process', 'data.', 'insights', 'capable'}\n"
          ],
          "name": "stdout"
        }
      ]
    },
    {
      "cell_type": "markdown",
      "metadata": {
        "id": "ffe6NSt6ugy5"
      },
      "source": [
        "# Tokenizer 2: WordPunctTokenizer"
      ]
    },
    {
      "cell_type": "code",
      "metadata": {
        "colab": {
          "base_uri": "https://localhost:8080/"
        },
        "id": "UYi98TCQo1Hq",
        "outputId": "b129abeb-19a3-49c9-f167-a4acaec525c0"
      },
      "source": [
        "from nltk.tokenize.regexp import WordPunctTokenizer\n",
        "\n",
        "tokenizer_2 = WordPunctTokenizer()\n",
        "token_2 = tokenizer_2.tokenize(text)\n",
        "\n",
        "print('Length of Tokens: ' , len(token_2))\n",
        "print('List of Tokens: ', token_2)"
      ],
      "execution_count": 21,
      "outputs": [
        {
          "output_type": "stream",
          "text": [
            "Length of Tokens:  92\n",
            "List of Tokens:  [\"'\", 'Natural', 'language', 'processing', '(', 'NLP', ')', 'is', 'a', 'subfield', 'of', 'linguistics', ',', 'computer', 'science', ',', 'and', 'artificial', 'intelligence', 'concerned', 'with', 'the', 'interactions', 'between', 'computers', 'and', 'human', 'language', ',', 'in', 'particular', 'how', 'to', 'program', 'computers', 'to', 'process', 'and', 'analyze', 'large', 'amounts', 'of', 'natural', 'language', 'data', '.', 'The', 'result', 'is', 'a', 'computer', 'capable', 'of', 'understanding', 'the', 'contents', 'of', 'documents', ',', 'including', 'the', 'contextual', 'nuances', 'of', 'the', 'language', 'within', 'them', '.', 'The', 'technology', 'can', 'then', 'accurately', 'extract', 'information', 'and', 'insights', 'contained', 'in', 'the', 'documents', 'as', 'well', 'as', 'categorize', 'and', 'organize', 'the', 'documents', 'themselves', \".'\"]\n"
          ],
          "name": "stdout"
        }
      ]
    },
    {
      "cell_type": "code",
      "metadata": {
        "colab": {
          "base_uri": "https://localhost:8080/"
        },
        "id": "tESSU3zmqC09",
        "outputId": "46c4992f-9ceb-4ac1-ad8a-a4549b369f36"
      },
      "source": [
        "vocab = set(token_2)\n",
        "print('Length of vocab: ' , len(vocab))\n",
        "print('List of vocab: ', vocab)"
      ],
      "execution_count": 22,
      "outputs": [
        {
          "output_type": "stream",
          "text": [
            "Length of vocab:  62\n",
            "List of vocab:  {'NLP', 'subfield', 'technology', \"'\", ',', 'contained', 'Natural', 'amounts', 'data', 'and', 'between', 'categorize', 'large', 'The', 'with', 'computer', 'processing', 'nuances', 'as', '.', 'organize', 'then', 'computers', 'how', 'information', 'particular', 'can', 'natural', 'within', 'artificial', 'understanding', 'documents', 'analyze', 'is', 'program', 'contextual', 'of', ')', \".'\", 'human', 'the', 'to', 'them', 'linguistics', 'science', 'extract', 'well', 'a', 'contents', 'themselves', 'concerned', 'in', 'intelligence', 'including', 'language', 'interactions', 'result', 'process', 'accurately', '(', 'insights', 'capable'}\n"
          ],
          "name": "stdout"
        }
      ]
    },
    {
      "cell_type": "markdown",
      "metadata": {
        "id": "ctLFj3X1ukpl"
      },
      "source": [
        "# Word Frequency"
      ]
    },
    {
      "cell_type": "code",
      "metadata": {
        "colab": {
          "base_uri": "https://localhost:8080/"
        },
        "id": "Qof7iZ64qk3w",
        "outputId": "284e242e-ab8d-46a3-8997-52363f30d648"
      },
      "source": [
        "import nltk\n",
        "\n",
        "#nltk.download('gutenberg')\n",
        "\n",
        "freqDist = nltk.FreqDist(token_2)\n",
        "print(freqDist)"
      ],
      "execution_count": 23,
      "outputs": [
        {
          "output_type": "stream",
          "text": [
            "<FreqDist with 62 samples and 92 outcomes>\n"
          ],
          "name": "stdout"
        }
      ]
    },
    {
      "cell_type": "code",
      "metadata": {
        "id": "pNhgUhHJrOyT",
        "colab": {
          "base_uri": "https://localhost:8080/",
          "height": 325
        },
        "outputId": "529eb057-86a2-428f-81fe-89c0bc00109d"
      },
      "source": [
        "freqDist.plot(15) # argument inside function(15) picks up the top 15 words for plotting"
      ],
      "execution_count": 24,
      "outputs": [
        {
          "output_type": "display_data",
          "data": {
            "image/png": "[encoded data removed]",
            "text/plain": [
              "<Figure size 432x288 with 1 Axes>"
            ]
          },
          "metadata": {
            "tags": [],
            "needs_background": "light"
          }
        }
      ]
    },
    {
      "cell_type": "code",
      "metadata": {
        "id": "AOLAVVwkrf-n",
        "colab": {
          "base_uri": "https://localhost:8080/"
        },
        "outputId": "bf845146-adfc-4cb7-b3c3-05d5f8d0b63f"
      },
      "source": [
        "print(freqDist[\"subfield\"])  # Find the frequency of a specific word"
      ],
      "execution_count": 25,
      "outputs": [
        {
          "output_type": "stream",
          "text": [
            "1\n"
          ],
          "name": "stdout"
        }
      ]
    }
  ]
}
